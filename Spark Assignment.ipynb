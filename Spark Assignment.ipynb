{
 "cells": [
  {
   "cell_type": "markdown",
   "metadata": {},
   "source": [
    "# Big Data - Spark Assignment\n",
    "\n",
    "### Atlanta Liu\n",
    "### Winter 2020"
   ]
  },
  {
   "cell_type": "markdown",
   "metadata": {},
   "source": [
    "### 1. Written Questions"
   ]
  },
  {
   "cell_type": "markdown",
   "metadata": {},
   "source": [
    "a) What are the two key processes in Hadoop?\n",
    "\n",
    "- MapReduce and Hadoop Distributed File System (HDFS)\n",
    "\n",
    "b) Is HDFS optimized for sequential or random reading of data?\n",
    "\n",
    "- Sequential reading of data\n",
    "\n",
    "c) By default, how many back-up copies does HDFS create?\n",
    "\n",
    "- Data is replicated 3 times by default across different data nodes\n",
    "\n",
    "d) In HDFS, what entity maintains and manages the file system meta data?\n",
    "\n",
    "- Name node manages and maintains the meta data for file systems\n",
    "\n",
    "e) What is the purpose of Spark Driver?\n",
    "\n",
    "- The main purpose of the Spark Driver is the initiate the Spark Context, as well as scheduling tasks (transformations/actions) to the executor. It keeps tracks of workers through a continous pings to know if the executors are on track or if they have failed. Cached data and logs can be used to help rebuild loss data in case an error has occurred, ensuring fault-tolerance. Once the driver exits, resources taken up by executors are released for use elsewhere.\n",
    "\n",
    "f) What is the purpose of Spark Cluster Manager?\n",
    "\n",
    "- The Spark Cluster Manager creates working nodes for the driver and connects with the Spark Context. There are several types of cluster managers (standalone, yarn, etc), but the main purpose is to help ensure that resources are properly allocated across each application. "
   ]
  },
  {
   "cell_type": "markdown",
   "metadata": {},
   "source": [
    "### Spark Instantiation"
   ]
  },
  {
   "cell_type": "code",
   "execution_count": 1,
   "metadata": {},
   "outputs": [
    {
     "name": "stderr",
     "output_type": "stream",
     "text": [
      "INFO:sparkhpc.sparkjob:Submitted batch job 5018898\n",
      "\n",
      "INFO:sparkhpc.sparkjob:Submitted cluster 0\n"
     ]
    }
   ],
   "source": [
    "import os\n",
    "import atexit\n",
    "import sys\n",
    "\n",
    "import pyspark\n",
    "from pyspark.context import SparkContext\n",
    "from pyspark.sql import SQLContext\n",
    "import findspark\n",
    "from sparkhpc import sparkjob\n",
    "\n",
    "#Exit handler to clean up the Spark cluster if the script exits or crashes\n",
    "def exitHandler(sj,sc):\n",
    "    try:\n",
    "        print('Trapped Exit cleaning up Spark Context')\n",
    "        sc.stop()\n",
    "    except:\n",
    "        pass\n",
    "    try:\n",
    "        print('Trapped Exit cleaning up Spark Job')\n",
    "        sj.stop()\n",
    "    except:\n",
    "        pass\n",
    "\n",
    "findspark.init()\n",
    "\n",
    "#Parameters for the Spark cluster\n",
    "nodes=3\n",
    "tasks_per_node=8 \n",
    "memory_per_task=1024 #1 gig per process, adjust accordingly\n",
    "# Please estimate walltime carefully to keep unused Spark clusters from sitting \n",
    "# idle so that others may use the resources.\n",
    "walltime=\"3:00\" #1 hour\n",
    "os.environ['SBATCH_PARTITION']='single' #Set the appropriate ARC partition\n",
    "\n",
    "sj = sparkjob.sparkjob(\n",
    "     ncores=nodes*tasks_per_node,\n",
    "     cores_per_executor=tasks_per_node,\n",
    "     memory_per_core=memory_per_task,\n",
    "     walltime=walltime\n",
    "    )\n",
    "\n",
    "sj.wait_to_start()\n",
    "sc = sj.start_spark()\n",
    "\n",
    "#Register the exit handler                                                                                                     \n",
    "atexit.register(exitHandler,sj,sc)\n",
    "\n",
    "#You need this line if you want to use SparkSQL\n",
    "sqlCtx=SQLContext(sc)"
   ]
  },
  {
   "cell_type": "markdown",
   "metadata": {},
   "source": [
    "### All files referenced are from MIMIC"
   ]
  },
  {
   "cell_type": "markdown",
   "metadata": {},
   "source": [
    "2. Using INPUTEVENTS_MV.csv, perform the following tasks using RDD operations:"
   ]
  },
  {
   "cell_type": "markdown",
   "metadata": {},
   "source": [
    "a) Sum all of the values in the amount column\n",
    "\n",
    "b) Determine the total amount (with units) of each ITEMID\n",
    "\n",
    "c) Determine the number of different categories for ORDERCATEGORYDESCRIPTION\n",
    "\n",
    "d) Count how many unique SUBJECT_ID's there are with more than 100 rows"
   ]
  },
  {
   "cell_type": "code",
   "execution_count": 38,
   "metadata": {},
   "outputs": [],
   "source": [
    "# Importing file\n",
    "data = sc.textFile(\"./INPUTEVENTS_MV.csv\")"
   ]
  },
  {
   "cell_type": "code",
   "execution_count": 40,
   "metadata": {},
   "outputs": [
    {
     "name": "stdout",
     "output_type": "stream",
     "text": [
      "792410333.703147\n"
     ]
    }
   ],
   "source": [
    "# a)\n",
    "lista = data.map(lambda x: x.split(\",\")[7]).collect()[1:]\n",
    "print(sum(map(float, lista)))"
   ]
  },
  {
   "cell_type": "code",
   "execution_count": 151,
   "metadata": {
    "scrolled": true
   },
   "outputs": [
    {
     "name": "stdout",
     "output_type": "stream",
     "text": [
      "[[('221385-mg', 28559.526306659995), ('226372-ml', 1313073.0), ('225833-mg', 292352.05831663054), ('226375-ml', 895491.0), ('225832-mg', 5379.869288173501), ('227535-mg', 4418.3418884044995), ('225848-mg', 515.000004), ('227528-ml', 232889.67719339993), ('225843-grams', 189.0), ('225890-mg', '250'), ('225148-mg', 14289.486826529303), ('221906-mcg', 1599.9999411000001), ('228140-ml', 14638.92231098), ('228351-ml', 378148.03714277), ('225876-mg', '250'), ('225844-mg', 1500.00012), ('226364-L', '6')], [('225166-mEq', 1474662.655897773), ('221623-mg', 38190.403038700046), ('225910-dose', 20719.0), ('225151-mg', 79181.06043505501), ('225853-dose', 1793.0), ('222062-mg', 9698.1242446088), ('227529-ml', 15165390.941652365), ('223259-units', 60809.5), ('225855-grams', 53.0), ('225862-mg', 270.000012), ('225862-dose', 265.0), ('226036-ml', 10358.90715326), ('228316-mg', 724775.0197100001), ('225888-mg', -4.999999900000001), ('225996-ml', 240.0), ('226049-ml', 10269.904191329999), ('227978-ml', 3647.79563951), ('225879-grams', '750'), ('228363-ml', 461400.155604214)], [('220949-ml', 52678016.56166667), ('222011-grams', 53247.844586654726), ('225823-ml', 11091751.429991616), ('225835-mmol', 31395.8232022288), ('225150-mcg', 1610526.03660138), ('225873-dose', 233.0), ('226363-ml', 856596.0), ('225154-mcg', 37.5), ('221733-International Units', 38178.0001986)], [('220970-ml', 3059565.0115729882), ('225888-dose', 4992.0), ('221712-mg', 74947.46478374151), ('225907-mg', 1360.000064), ('226030-ml', 84225.70586727001), ('221794-dose', 3.0), ('227974-ml', 49509.170965289995), ('227977-ml', 5165.41943833), ('220995-/hour', 11.830918537999999), ('225871-dose', 53.0), ('221468-mcg', '24.999999'), ('226367-uL', '2.0000001')], [('225909-dose', 1973.0), ('225860-dose', 2300.0), ('225156-mg', 494063.21374492993), ('222168-mcg', 1072.4999725999999), ('227692-mg', 35.0161672979), ('228131-ml', 22729.40218865), ('222151-mg', 35808.52289759999), ('225994-ml', 510.0)], [('226453-ml', 3238335.0), ('225931-ml', 2177526.2530716653), ('225879-dose', 3956.0), ('225152-units', 311793976.32565683), ('221662-mg', 1123377.2323333148), ('225859-mg', 47551.001240000005), ('225969-grams', 46422.355656968306), ('227533-ml', 122630.0), ('222318-mg', 1128.7000503), ('225150-mg', 98.10848934109998), ('227532-ml', 29066.532148200004), ('225934-ml', 535838.811941079), ('227699-ml', 16072.493847409998), ('227979-ml', 2086625.2394987997), ('228132-ml', 2918.521778)], [('225799-ml', 6299703.9), ('225168-ml', 8154769.441950449), ('222042-mg', 241016.2602914518), ('220995-mEq', 673364.8157196447), ('225937-ml', 133915.64414351998), ('225970-grams', 232796.81723983138), ('225948-grams', 168909.2748940225), ('226023-ml', 8398.856312859), ('225845-mg', 134640.000011), ('226019-ml', 19417.359645020002), ('221261-mg', 35.727345572999994), ('227534-mg', 5125.166772996999), ('227975-ml', 2297118.2209647642), ('225903-dose', 39.0), ('222037-mg', 27.8757147222), ('225837-mg', 22251.000449999996)], [('226880-ml', 3494540.659077536), ('225798-mg', 545782.0189501999), ('225920-ml', 300121.32783026), ('221689-mg', 1803.5142824650002), ('225866-dose', 518.0), ('227525-grams', 151253.69559343992), ('225890-dose', 996.0), ('225842-grams', 133.0), ('227973-ml', 70182.47571617003), ('226024-ml', 1599.999958), ('221892-mg', 586.2250164295999), ('225912-grams', 8.0), ('228383-ml', 368331.4555474999), ('225915-units', 10620.00016), ('225871-mg', '5100.0004'), ('226361-L', 18.0)], [('225797-ml', 2673392.0), ('225838-dose', 335.0), ('225850-grams', 588.0), ('227520-mg', 31610.401644930018), ('226051-ml', 110994.36191732998), ('225869-mg', 13100.000229999998), ('225851-mg', 1014.0000007000001), ('225832-dose', '.4504950268'), ('225913-grams', '1')], [('225943-ml', 9492530.891848238), ('223262-units', 97942.50000079999), ('221456-grams', 65845.53731424666), ('221828-mg', 147587.41213032053), ('225865-dose', 434.0), ('225801-ml', 40523.426518689994), ('225928-ml', 384067.9170557001), ('225974-mcg', '4.9999999'), ('226017-ml', 5719.69258997), ('225993-ounces', '4'), ('225975-mcg', '49.999999'), ('226059-ml', 11178.89787316), ('225795-ml', 14791.823597309998), ('225889-dose', 2.0), ('225153-dose', '1.000000023'), ('227690-grams', '1'), ('225833-dose', 7.900000343999999), ('227370-ml', '250.000005')], [('221744-mcg', 3283458.9444119795), ('220862-ml', 634832.2793863573), ('225850-dose', 12916.0), ('226050-ml', 90963.51402321), ('225947-grams', 438144.91802537773), ('225848-dose', 328.0), ('225863-dose', 905.0), ('225905-dose', 861.0), ('225853-grams', 61.0), ('221207-ml', 119557.21657793001), ('227536-mEq.', 276058.2433651645), ('228339-mg', 537948.9006905949), ('225155-mcg', 2333.50030272)], [('225825-ml', 2197989.5205304944), ('222056-mg', 383175.3763740828), ('225153-mg', 910156.673700757), ('225906-dose', 1790.0), ('225912-dose', 684.0), ('225885-dose', 1568.0), ('226365-ml', 1291377.0), ('226044-ml', 3946.16888503), ('225973-mg', 9068.70001004), ('225898-dose', 230.0), ('227536-ml/hr', 220.00003579920005), ('225945-mg', 400819.44435469003), ('225876-dose', 132.0), ('227689-grams', 7.0), ('225914-mg', 11.00000022), ('226021-ml', '400.000008'), ('226026-ml', 53087.35058890003)], [('227522-ml', 2084931.9149225252), ('225798-dose', 63689.5), ('225892-dose', 5451.0), ('225929-ml', 280981.6437460602), ('221289-mg', 5361.5145524575), ('223261-units', 4429.5), ('225161-ml', 401750.61559457995), ('226047-ml', 50883.50651641999), ('225157-mg', 86.0019077168), ('227524-grams', 283.178009317), ('226039-ml', 26584.721667370002), ('227531-mg', 237.50000519999998), ('228348-ml', 264.50000258)], [('225828-ml', 32343560.15474178), ('225974-mg', 186943.11463946148), ('225830-ml', 13678.1130151164), ('225877-dose', 6.0), ('225844-dose', 46.0), ('226022-ml', 24076.917715189997), ('227698-ml', 18389.29740539), ('228134-ml', 8693.210870560002), ('228361-ml', '49.66666766')], [('225935-ml', 1653868.1272677206), ('225837-dose', 4185.0), ('225916-ml', 7426622.828060491), ('225851-dose', 15064.0), ('227530-ml', 70432.70759722), ('225883-grams', 45.0), ('223257-units', 10120.5), ('228003-dose', 66.0), ('225828-L', '1')], [('221749-mg', 1332314.6464007956), ('225907-dose', 22220.0), ('225975-dose', 84390.0), ('225893-dose', 26729.0), ('225911-dose', 3128.0), ('226371-ml', 72121.0), ('226369-ml', 375546.0), ('225917-ml', 3335895.838056493), ('225910-mg', 485319.4441238435), ('225847-dose', 1714.0), ('227070-ml', 41775.0), ('226048-ml', 32224.0141001), ('225868-dose', 7.0), ('225798-mcg', 1500.00002)], [('226364-ml', 16977575.0), ('227523-ml', 887582.2688921811), ('225879-mg', 30000.00204), ('227531-grams', 48108.295100940995), ('226370-ml', 48095.0), ('226376-ml', 93051.0), ('225847-mg', 15500.0), ('225892-grams', 16.0), ('228340-mg', 251833.13595483074), ('225850-mg', 3.0000001)], [('225869-dose', 2001.0), ('225908-dose', 154.0), ('225881-dose', 2902.0), ('221986-mg', 79008.59531437389), ('225948-dose', 7.750000094800001), ('221555-mg', 545635.3460826706), ('225906-mg', 810.000032), ('221393-mg', 682.3000037400001), ('226016-ml', 17924.348987929996), ('225975-mg', 37501.0015), ('227694-dose', 1384.0), ('227691-dose', 92.0), ('225914-dose', 8.00000056), ('228141-ml', 150.41562462000002), ('225884-grams', '2'), ('225995-ml', 390.0)], [('225158-ml', 87625516.1984401), ('221668-mg', 1268504.8302856158), ('223260-units', 207251.1), ('225883-dose', 17575.0), ('225875-dose', 1882.0), ('225941-ml', 325434.574193328), ('226031-ml', 73943.23501450002), ('227091-ml', 1564.3816279399998), ('225837-grams', '2'), ('228003-mg', 975.000063), ('228133-ml', 138.60521076999999), ('226881-ml', 7677.063497759998)], [('225899-dose', 1820.0), ('221319-mg', 1533.2373636393997), ('221653-mg', 234899.46342586944), ('225174-ml', 35878.578318349995), ('227071-ml', 3127.0), ('225991-ml', 460.0), ('228142-ml', 5953.0097220570005), ('225888-mcg', 5.0)], [('221468-mg', 336804.9112418981), ('225859-dose', 11998.0), ('225167-mEq', 1934.3635492819997), ('228341-ml', 989.9999859000001), ('228315-dose', '1'), ('222190-mg', 1471.4663321526), ('225837-mcg', '399.99999'), ('225845-grams', '1')], [('221906-mg', 157993.9382608738), ('222051-mg', 38715.1931351932), ('225170-ml', 1024136.2879712228), ('221036-ml', 1097718.8529524188), ('225902-dose', 809.0), ('221833-dose', 2.0), ('225147-mg', 82387.24002847627), ('226058-ml', 5567.79646464), ('225898-mg', 800.00002), ('225838-mg', '480.00002'), ('225842-mg', '2.0000001')], [('225936-ml', 12298793.184689427), ('221744-mg', 14418.341834986406), ('225944-ml', 2829042.053611325), ('220864-ml', 2815676.9325017384), ('225159-ml', 3677733.266975657), ('225913-dose', 927.0), ('227695-ml', 3600894.782380065), ('225881-mg', 14700.000489999995), ('225905-mg', 3805.0000999999993), ('226038-ml', 51715.35406137995), ('225886-dose', 9.0), ('228367-ml', 540508.7473690797), ('226875-ml', '968.468532')], [('226361-ml', 15644544.0), ('221824-mg', 15380.001068739992), ('225893-mg', 67504.0000002), ('225851-grams', 442.0), ('225892-mg', 9017.000000799999), ('227072-ml', 6456.0), ('225914-mcg', 416578.64794292045), ('225902-mg', 3410.00009), ('225863-mg', 3801.00014), ('227691-mg', 1000.0)], [('226452-ml', 25238086.0), ('221833-mg', 144167.8878158134), ('226089-ml', 3856506.588950191), ('225855-dose', 4616.0), ('223258-units', 1003728.2338165801), ('221347-mg', 2346767.13938622), ('221429-mg', 5329827.977406058), ('222315-units', 176309.29920517033), ('225893-grams', 272.0), ('222021-mg', 252.68562265679998), ('225888-grams', 60.0), ('225883-mg', 187300.0), ('227689-mg', 1003616.5849365277), ('227690-mg', 206600.17059559998), ('227696-ml', 44791.77262032), ('225942-mcg', 564.49999587), ('228359-ml', 557122.41834451), ('221289-mcg', 5369.1422792799995), ('ITEMID-AMOUNTUOM', '\"AMOUNT\"'), ('225158-L', '1'), ('225909-mg', '30.000001'), ('228356-ml', '258.66667572')], [('225154-mg', 234546.9600541834), ('225884-dose', 24746.0), ('225911-mg', 975.000043), ('225843-dose', 3509.0), ('227526-mmol', 1764429.8045304017), ('225930-ml', 1162542.818965284), ('225171-ml', 146283.51045519998), ('225840-dose', 205.0), ('226882-ml', 38858.75325266), ('225885-mg', 1550.0000009999999), ('225840-mg', 3880.00005), ('225866-mg', 6750.00001), ('228135-ml', 2251717.1285199), ('222021-mcg', 249.99999200000002), ('228315-mg', 3933038.0015238), ('221456-mg', '20.0000016')], [('226368-ml', 2296314.0), ('225827-ml', 641072.8138308513), ('225834-mmol', 98571.56670631797), ('225155-mg', 1604.8811234629995), ('225884-mg', 96051.000001), ('220950-ml', 535901.3267200271), ('225899-mg', 19311.000646999997), ('225942-mg', 41281.05492792739), ('226028-ml', 4735.23065264), ('227694-mg', 160.000012), ('221342-mg', 3550.7502899399997), ('221555-mcg', '.2'), ('227976-ml', '120')], [('222168-mg', 71468550.96050677), ('220952-ml', 121279.1999998), ('225798-grams', 1166.5), ('221282-mg', 2986.5000337200004), ('226377-ml', 26145.0), ('226877-ml', 22109.107825980005), ('221833-mcg', 1000.0000500000001), ('225913-mg', 402.0000208), ('225914-pg', 7000.0000199999995), ('222062-mcg', '9.9999997')], [('221794-mg', 1863731.5409356463), ('222011-mg', '40.0000032'), ('225845-dose', 1018.0), ('225842-dose', 3687.0), ('226367-ml', 1265112.0), ('226027-ml', 2823.9105289199997), ('225860-mg', 47901.00175999999), ('226046-ml', 97092.81912865), ('225875-mg', 8510.000464), ('225173-ml', 16782.166478500003), ('227518-ml', 99416.83509666998), ('225873-mg', 2550.0001899999997), ('226045-ml', 9755.14148499), ('228315-grams', 4.0), ('228364-ml', 8267.74754742), ('226020-ml', 6990.03961605), ('225896-dose', '1'), ('225895-dose', 8.0)]]\n"
     ]
    }
   ],
   "source": [
    "# b) ItemID = 6, amount = 7, amountunit = 8\n",
    "# Determine the total amount (with units) of each ITEMID\n",
    "\n",
    "listb=data.map(lambda x: (x.split(\",\")[6].replace('\"','') + \"-\" + x.split(\",\")[8].replace('\"',''), x.split(\",\")[7]))\n",
    "reduced=listb.reduceByKey(lambda x,y: float(x)+float(y))\n",
    "print(reduced.glom().collect())"
   ]
  },
  {
   "cell_type": "code",
   "execution_count": 123,
   "metadata": {},
   "outputs": [
    {
     "data": {
      "text/plain": [
       "5"
      ]
     },
     "execution_count": 123,
     "metadata": {},
     "output_type": "execute_result"
    }
   ],
   "source": [
    "# c)\n",
    "data.map(lambda x: x.split(\",\")[16]).distinct().count()-1"
   ]
  },
  {
   "cell_type": "code",
   "execution_count": 148,
   "metadata": {
    "scrolled": true
   },
   "outputs": [
    {
     "name": "stdout",
     "output_type": "stream",
     "text": [
      "7175\n"
     ]
    }
   ],
   "source": [
    "# d) Count how many unique SUBJECT_ID's there are with more than 100 rows\n",
    "reduce = data.map(lambda x:(x.split(\",\")[1].replace('\"',''),1)).reduceByKey(lambda x,y: x+y).filter(lambda x: x[1] > 100)\n",
    "print(reduce.count())"
   ]
  },
  {
   "cell_type": "markdown",
   "metadata": {},
   "source": [
    "<br><br>3. Using ADMISSIONS.csv and PROCEDUREEVENTS_MV.csv, perform the following tasks using Spark SQL:\n",
    "\n",
    "a) Select all rows where the person has government insurance\n",
    "\n",
    "b) Find the admission location that led to the most discharges to rehab/distinct part hosp\n",
    "\n",
    "c) Find the most common ORDERCATEGORYNAME for patients with an admission type of emergency"
   ]
  },
  {
   "cell_type": "code",
   "execution_count": 129,
   "metadata": {},
   "outputs": [],
   "source": [
    "# Importing file\n",
    "from pyspark.sql import SparkSession\n",
    "\n",
    "spark = SparkSession.builder.appName('app').getOrCreate()\n",
    "admission = spark.read.csv('./ADMISSIONS.csv', inferSchema = True, header = True)\n",
    "procedure = spark.read.csv('./PROCEDUREEVENTS_MV.csv', inferSchema = True, header = True)"
   ]
  },
  {
   "cell_type": "code",
   "execution_count": null,
   "metadata": {},
   "outputs": [],
   "source": [
    "#admission #ADMISSION_TYPE == EMERGENCY"
   ]
  },
  {
   "cell_type": "code",
   "execution_count": 130,
   "metadata": {
    "scrolled": true
   },
   "outputs": [],
   "source": [
    "admission.createOrReplaceTempView('admission')\n",
    "procedure.createOrReplaceTempView('procedure')"
   ]
  },
  {
   "cell_type": "code",
   "execution_count": 131,
   "metadata": {
    "scrolled": true
   },
   "outputs": [
    {
     "name": "stdout",
     "output_type": "stream",
     "text": [
      "+------+----------+-------+-------------------+-------------------+---------+--------------+--------------------+--------------------+----------+--------+-----------------+--------------+--------------------+-------------------+-------------------+--------------------+--------------------+--------------------+\n",
      "|ROW_ID|SUBJECT_ID|HADM_ID|          ADMITTIME|          DISCHTIME|DEATHTIME|ADMISSION_TYPE|  ADMISSION_LOCATION|  DISCHARGE_LOCATION| INSURANCE|LANGUAGE|         RELIGION|MARITAL_STATUS|           ETHNICITY|          EDREGTIME|          EDOUTTIME|           DIAGNOSIS|HOSPITAL_EXPIRE_FLAG|HAS_CHARTEVENTS_DATA|\n",
      "+------+----------+-------+-------------------+-------------------+---------+--------------+--------------------+--------------------+----------+--------+-----------------+--------------+--------------------+-------------------+-------------------+--------------------+--------------------+--------------------+\n",
      "|   468|       363| 196503|2176-03-01 15:26:00|2176-03-03 14:04:00|     null|       NEWBORN|CLINIC REFERRAL/P...|                HOME|Government|    null|PROTESTANT QUAKER|          null|BLACK/AFRICAN AME...|               null|               null|             NEWBORN|                   0|                   1|\n",
      "|   477|       371| 113500|2147-12-08 23:38:00|2148-01-02 11:18:00|     null|     EMERGENCY|EMERGENCY ROOM ADMIT|LONG TERM CARE HO...|Government|    null|     UNOBTAINABLE|       MARRIED|UNKNOWN/NOT SPECI...|2147-12-08 22:23:00|2147-12-09 00:36:00|STATUS POST MOTOR...|                   0|                   1|\n",
      "|    73|        71| 111944|2164-02-03 22:07:00|2164-02-08 14:00:00|     null|     EMERGENCY|EMERGENCY ROOM ADMIT|DISC-TRAN CANCER/...|Government|    MAND|    NOT SPECIFIED|        SINGLE|               ASIAN|2164-02-03 19:11:00|2164-02-03 23:22:00|            OVERDOSE|                   0|                   1|\n",
      "|    99|        96| 170324|2156-03-31 16:11:00|2156-04-29 15:05:00|     null|     EMERGENCY|EMERGENCY ROOM ADMIT|                HOME|Government|    ENGL|         CATHOLIC|       MARRIED|               WHITE|2156-03-31 13:54:00|2156-03-31 14:45:00|            S/P FALL|                   0|                   1|\n",
      "|   116|       109| 183350|2137-11-04 19:36:00|2137-11-21 18:13:00|     null|     EMERGENCY|EMERGENCY ROOM ADMIT|                HOME|Government|    ENGL|    NOT SPECIFIED|        SINGLE|BLACK/AFRICAN AME...|2137-11-04 12:48:00|2137-11-04 19:37:00|HYPERTENSIVE EMER...|                   0|                   1|\n",
      "+------+----------+-------+-------------------+-------------------+---------+--------------+--------------------+--------------------+----------+--------+-----------------+--------------+--------------------+-------------------+-------------------+--------------------+--------------------+--------------------+\n",
      "only showing top 5 rows\n",
      "\n"
     ]
    }
   ],
   "source": [
    "# a)\n",
    "sqlCtx.sql(\"\"\"\n",
    "SELECT * \n",
    "FROM \n",
    "    admission \n",
    "WHERE \n",
    "    INSURANCE == 'Government'\n",
    "\"\"\").show(5)"
   ]
  },
  {
   "cell_type": "code",
   "execution_count": 6,
   "metadata": {
    "scrolled": false
   },
   "outputs": [
    {
     "name": "stdout",
     "output_type": "stream",
     "text": [
      "+--------------------+--------+\n",
      "|  ADMISSION_LOCATION|count(1)|\n",
      "+--------------------+--------+\n",
      "|EMERGENCY ROOM ADMIT|    3399|\n",
      "+--------------------+--------+\n",
      "\n"
     ]
    }
   ],
   "source": [
    "# b)\n",
    "sqlCtx.sql(\"\"\"\n",
    "SELECT\n",
    "  ADMISSION_LOCATION,\n",
    "  COUNT(*)\n",
    "FROM\n",
    "  admission\n",
    "WHERE\n",
    "    DISCHARGE_LOCATION == 'REHAB/DISTINCT PART HOSP'\n",
    "GROUP BY\n",
    "  ADMISSION_LOCATION\n",
    "ORDER BY COUNT(*) DESC\n",
    "LIMIT 1\n",
    "\"\"\").show()"
   ]
  },
  {
   "cell_type": "code",
   "execution_count": 10,
   "metadata": {},
   "outputs": [
    {
     "name": "stdout",
     "output_type": "stream",
     "text": [
      "+-----------------+--------+\n",
      "|ORDERCATEGORYNAME|count(1)|\n",
      "+-----------------+--------+\n",
      "|       Procedures|   11583|\n",
      "+-----------------+--------+\n",
      "\n"
     ]
    }
   ],
   "source": [
    "# c) Find the most common ORDERCATEGORYNAME for patients with an admission type of emergency\n",
    "sqlCtx.sql(\"\"\"\n",
    "SELECT\n",
    "    ORDERCATEGORYNAME,\n",
    "    COUNT(*)\n",
    "FROM\n",
    "\n",
    "(SELECT\n",
    "    admission.ADMISSION_TYPE,\n",
    "    procedure.ORDERCATEGORYNAME\n",
    "FROM\n",
    "    admission\n",
    "INNER JOIN\n",
    "    procedure \n",
    "ON \n",
    "    admission.ROW_ID = procedure.ROW_ID\n",
    "WHERE\n",
    "    admission.ADMISSION_TYPE = 'EMERGENCY')\n",
    "\n",
    "GROUP BY\n",
    "    ORDERCATEGORYNAME\n",
    "ORDER BY COUNT(*) DESC\n",
    "LIMIT 1\n",
    "\"\"\").show()"
   ]
  }
 ],
 "metadata": {
  "kernelspec": {
   "display_name": "Python 3",
   "language": "python",
   "name": "python3"
  },
  "language_info": {
   "codemirror_mode": {
    "name": "ipython",
    "version": 3
   },
   "file_extension": ".py",
   "mimetype": "text/x-python",
   "name": "python",
   "nbconvert_exporter": "python",
   "pygments_lexer": "ipython3",
   "version": "3.7.3"
  },
  "varInspector": {
   "cols": {
    "lenName": 16,
    "lenType": 16,
    "lenVar": 40
   },
   "kernels_config": {
    "python": {
     "delete_cmd_postfix": "",
     "delete_cmd_prefix": "del ",
     "library": "var_list.py",
     "varRefreshCmd": "print(var_dic_list())"
    },
    "r": {
     "delete_cmd_postfix": ") ",
     "delete_cmd_prefix": "rm(",
     "library": "var_list.r",
     "varRefreshCmd": "cat(var_dic_list()) "
    }
   },
   "types_to_exclude": [
    "module",
    "function",
    "builtin_function_or_method",
    "instance",
    "_Feature"
   ],
   "window_display": false
  }
 },
 "nbformat": 4,
 "nbformat_minor": 2
}
